{
 "cells": [
  {
   "cell_type": "code",
   "execution_count": 1,
   "metadata": {
    "ExecuteTime": {
     "end_time": "2018-09-25T16:48:16.163745Z",
     "start_time": "2018-09-25T16:48:15.794756Z"
    }
   },
   "outputs": [],
   "source": [
    "from qiskit import QuantumCircuit, converters\n",
    "from qiskit import IBMQ, Aer, execute\n",
    "from qiskit.providers.aer.noise import *\n",
    "from qiskit.quantum_info import *\n",
    "import qiskit.tools.jupyter\n",
    "import random\n",
    "import math\n",
    "import numpy as np\n",
    "# import basic plot tools\n",
    "from qiskit.tools.visualization import *"
   ]
  },
  {
   "cell_type": "code",
   "execution_count": 2,
   "metadata": {},
   "outputs": [],
   "source": [
    "provider = IBMQ.load_account()\n",
    "real_backend = provider.get_backend('ibmq_armonk')\n",
    "properties = real_backend.properties()    \n",
    "coupling_map = real_backend.configuration().coupling_map\n",
    "noise_model = NoiseModel.from_backend(properties)\n",
    "basis_gates = noise_model.basis_gates"
   ]
  },
  {
   "cell_type": "code",
   "execution_count": 3,
   "metadata": {},
   "outputs": [
    {
     "data": {
      "text/html": [
       "<h3>Version Information</h3><table><tr><th>Qiskit Software</th><th>Version</th></tr><tr><td>Qiskit</td><td>0.19.1</td></tr><tr><td>Terra</td><td>0.14.1</td></tr><tr><td>Aer</td><td>0.5.1</td></tr><tr><td>Ignis</td><td>0.3.0</td></tr><tr><td>Aqua</td><td>0.7.0</td></tr><tr><td>IBM Q Provider</td><td>0.7.0</td></tr><tr><th>System information</th></tr><tr><td>Python</td><td>3.8.1 (tags/v3.8.1:1b293b6, Dec 18 2019, 23:11:46) [MSC v.1916 64 bit (AMD64)]</td></tr><tr><td>OS</td><td>Windows</td></tr><tr><td>CPUs</td><td>6</td></tr><tr><td>Memory (Gb)</td><td>15.90243148803711</td></tr><tr><td colspan='2'>Tue May 12 23:16:48 2020 Pacific Daylight Time</td></tr></table>"
      ],
      "text/plain": [
       "<IPython.core.display.HTML object>"
      ]
     },
     "metadata": {},
     "output_type": "display_data"
    }
   ],
   "source": [
    "%qiskit_version_table"
   ]
  },
  {
   "cell_type": "code",
   "execution_count": 8,
   "metadata": {},
   "outputs": [],
   "source": [
    "def create_random_circuit(num_qubits, depth=1, only_gates=None):    \n",
    "    circ = QuantumCircuit(num_qubits, num_qubits)\n",
    "    # set the starting state\n",
    "    for d in range(depth):\n",
    "        for q in range(num_qubits):\n",
    "            add_gate = {\n",
    "                'u3': lambda: circ.u3(random.uniform(0, math.pi), random.uniform(0, math.pi), random.uniform(0, math.pi), q),\n",
    "                'x': lambda: circ.x(q),\n",
    "                'y': lambda: circ.y(q),\n",
    "                'z': lambda: circ.z(q),\n",
    "                'h': lambda: circ.h(q)\n",
    "            }\n",
    "\n",
    "            if only_gates is None:\n",
    "                add_gate.get('u3')()\n",
    "            else:\n",
    "                add_gate.get(only_gates[random.randrange(len(only_gates))])()\n",
    "            \n",
    "    return circ"
   ]
  },
  {
   "cell_type": "code",
   "execution_count": 14,
   "metadata": {},
   "outputs": [],
   "source": [
    "def run(circ, shots, backend=None, noisy=False, disp=False):\n",
    "    if (backend == None):\n",
    "        backend = Aer.get_backend('qasm_simulator')\n",
    "#         backend = Aer.get_backend('statevector_simulator')\n",
    "    \n",
    "    using_statevector_backend = backend.name() == 'statevector_simulator'\n",
    "    if (noisy and not using_statevector_backend):\n",
    "        print(\"Using noisy simulator\")\n",
    "        job = execute(circ, backend, shots=shots, coupling_map=coupling_map, noise_model=noise_model, basis_gates=basis_gates)\n",
    "    else:\n",
    "        job = execute(circ, backend, shots=shots)\n",
    "    results = job.result()\n",
    "    counts = results.get_counts()\n",
    "    statevector = results.get_statevector(decimals=6) if using_statevector_backend else '[no statevector]'\n",
    "    if disp:\n",
    "        print(\"%s %s\" % (counts, statevector))\n",
    "        if using_statevector_backend:\n",
    "            plot_bloch_multivector(statevector)\n",
    "        else:\n",
    "            plot_histogram(counts)\n",
    "    return counts\n",
    "\n",
    "def run_statevector(circ, disp=False):\n",
    "    statevector_circ = circ.remove_final_measurements(inplace=False)\n",
    "    backend = Aer.get_backend('statevector_simulator')\n",
    "    job = execute(statevector_circ, backend, shots=1)\n",
    "    results = job.result()\n",
    "    statevector = results.get_statevector()\n",
    "    if disp:\n",
    "        print(\"%s\" % (statevector))\n",
    "        iplot_bloch_multivector(statevector)\n",
    "    return statevector\n",
    "\n",
    "def run_unitary(circ, disp=False):\n",
    "    unitary_circ = circ.remove_final_measurements(inplace=False)\n",
    "    backend = Aer.get_backend('unitary_simulator')\n",
    "    job = execute(unitary_circ, backend, shots=1)\n",
    "    results = job.result()\n",
    "    unitary = results.get_unitary()\n",
    "    if disp:\n",
    "        print(\"%s\" % (unitary))\n",
    "    return unitary"
   ]
  },
  {
   "cell_type": "code",
   "execution_count": 128,
   "metadata": {},
   "outputs": [],
   "source": [
    "def compare_statevector_fidelity(random_circ, circ):\n",
    "    rsv = Statevector(run_statevector(random_circ))\n",
    "    sv = Statevector(run_statevector(circ))\n",
    "    rsv_counts = rsv.probabilities_dict()\n",
    "    sv_counts = sv.probabilities_dict()\n",
    "    return hellinger_fidelity(rsv_counts, sv_counts)\n",
    "\n",
    "def compare_statevector_equiv(random_circ, circ):\n",
    "    rsv = Statevector(run_statevector(random_circ))\n",
    "    sv = Statevector(run_statevector(circ))\n",
    "    return rsv.equiv(sv)\n",
    "\n",
    "def compare_circuit_norm(random_circ, circ):\n",
    "    return diamond_norm(Choi(random_circ) - Choi(circ), verbose=True)\n",
    "\n",
    "def compare_circuit_unitaries(random_circ, circ):\n",
    "    ru = run_unitary(random_circ)\n",
    "    su = run_unitary(circ)\n",
    "    return 1 - np.tanh(np.linalg.norm(ru - su, ord=2)) # convert L2 norm to a [0-1) value\n",
    "\n",
    "def check_circuit(random_circ, circ, level=0):\n",
    "    fidelity = [compare_statevector_fidelity(random_circ, circ)]\n",
    "#     print(fidelity)\n",
    "    \n",
    "    if level > 0:        \n",
    "        fidelity.append(compare_statevector_equiv(random_circ, circ))\n",
    "#         print(fidelity)\n",
    "    \n",
    "    if level > 1:\n",
    "        fidelity.append(compare_circuit_unitaries(random_circ, circ))\n",
    "#         print(fidelity)\n",
    "        \n",
    "    if level > 2:\n",
    "        fidelity.append(compare_circuit_norm(random_circ, circ))\n",
    "#         print(fidelity)\n",
    "    \n",
    "    total_fidelity = np.mean(fidelity)\n",
    "    \n",
    "    if np.isclose(total_fidelity, 1.0):\n",
    "        print(\"Congratulations, your intuition has succeeded. Here is the circuit:\")\n",
    "        print(random_circ)\n",
    "    else:\n",
    "        print(\"Not quite there yet: %s (fidelity)\" % total_fidelity)"
   ]
  },
  {
   "cell_type": "code",
   "execution_count": 43,
   "metadata": {},
   "outputs": [],
   "source": [
    "rc = create_random_circuit(1, depth=2, only_gates=['x', 'y', 'z'])"
   ]
  },
  {
   "cell_type": "code",
   "execution_count": 135,
   "metadata": {},
   "outputs": [
    {
     "name": "stdout",
     "output_type": "stream",
     "text": [
      "Congratulations, your intuition has succeeded. Here is the circuit:\n",
      "     ┌───┐┌───┐\n",
      "q_0: ┤ X ├┤ Y ├\n",
      "     └───┘└───┘\n",
      "c_0: ══════════\n",
      "               \n"
     ]
    }
   ],
   "source": [
    "circ = QuantumCircuit(1, 1)\n",
    "circ.x(0)\n",
    "circ.y(0)\n",
    "check_circuit(rc, circ, level=1)"
   ]
  },
  {
   "cell_type": "code",
   "execution_count": 131,
   "metadata": {},
   "outputs": [
    {
     "data": {
      "text/html": [
       "<pre style=\"word-wrap: normal;white-space: pre;background: #fff0;line-height: 1.1;font-family: &quot;Courier New&quot;,Courier,monospace\">     ┌───┐┌───┐\n",
       "q_0: ┤ X ├┤ Y ├\n",
       "     └───┘└───┘\n",
       "c_0: ══════════\n",
       "               </pre>"
      ],
      "text/plain": [
       "     ┌───┐┌───┐\n",
       "q_0: ┤ X ├┤ Y ├\n",
       "     └───┘└───┘\n",
       "c_0: ══════════\n",
       "               "
      ]
     },
     "execution_count": 131,
     "metadata": {},
     "output_type": "execute_result"
    }
   ],
   "source": [
    "rc.draw()"
   ]
  },
  {
   "cell_type": "code",
   "execution_count": null,
   "metadata": {},
   "outputs": [],
   "source": []
  }
 ],
 "metadata": {
  "kernelspec": {
   "display_name": "Python 3",
   "language": "python",
   "name": "python3"
  },
  "language_info": {
   "codemirror_mode": {
    "name": "ipython",
    "version": 3
   },
   "file_extension": ".py",
   "mimetype": "text/x-python",
   "name": "python",
   "nbconvert_exporter": "python",
   "pygments_lexer": "ipython3",
   "version": "3.8.1"
  }
 },
 "nbformat": 4,
 "nbformat_minor": 2
}
